{
 "cells": [
  {
   "cell_type": "code",
   "execution_count": 15,
   "id": "5f8d8798",
   "metadata": {},
   "outputs": [],
   "source": [
    "import wrds\n",
    "import pandas_datareader\n",
    "import datetime as dt\n",
    "import pandas as pd\n",
    "import numpy as np\n",
    "import matplotlib.pyplot as plt\n",
    "import seaborn as sns\n",
    "from pandas.tseries.offsets import MonthEnd\n",
    "from decimal import Decimal"
   ]
  },
  {
   "cell_type": "code",
   "execution_count": 16,
   "id": "5d269e51",
   "metadata": {},
   "outputs": [],
   "source": [
    "load_data = False\n",
    "data_folder = '/Users/Xinlin/Desktop/Quantitative Asset Management/Problem Sets/PS1/'\n",
    "wrds_id = 'yxinlin'\n",
    "\n",
    "min_shrcd = 10\n",
    "max_shrcd = 11\n",
    "min_year = 1925\n",
    "max_year = 2021\n",
    "possible_exchcd = (1, 2, 3)\n",
    "\n",
    "if load_data:\n",
    "    conn = wrds.Connection(wrds_username=wrds_id)\n",
    "    # load CRSP returns\n",
    "    crsp_raw = conn.raw_sql(\"\"\"\n",
    "                          select a.permno, a.date, a.ret, a.shrout, a.prc,\n",
    "                          b.shrcd, b.exchcd\n",
    "                          from crspq.msf as a\n",
    "                          left join crspq.msenames as b\n",
    "                          on a.permno=b.permno\n",
    "                          and b.namedt<=a.date\n",
    "                          and a.date<=b.nameendt\n",
    "                          where b.shrcd between \"\"\" + str(min_shrcd) + \"\"\" and  \"\"\" + str(max_shrcd) + \"\"\"\n",
    "                          and a.date between '01/01/\"\"\" +str(min_year)+ \"\"\"' and '12/31/\"\"\" +str(max_year)+ \"\"\"'\n",
    "                          and b.exchcd in \"\"\" + str(possible_exchcd) + \"\"\"\n",
    "                          \"\"\")\n",
    "    # load CRSP delisting returns\n",
    "    dlret_raw = conn.raw_sql(\"\"\"\n",
    "                            select permno, dlstdt, dlret, dlstcd\n",
    "                            from crspq.msedelist\n",
    "                            \"\"\")\n",
    "    conn.close()\n",
    "    \n",
    "    # save pkl\n",
    "    crsp_raw.to_csv('crsp_raw.csv')\n",
    "    dlret_raw.to_csv('dlret_raw.csv')\n",
    "\n",
    "else:\n",
    "    crsp_raw = pd.read_csv('crsp_raw.csv')\n",
    "    dlret_raw = pd.read_csv('dlret_raw.csv')                      "
   ]
  },
  {
   "cell_type": "code",
   "execution_count": 17,
   "id": "f9d0f788",
   "metadata": {},
   "outputs": [],
   "source": [
    "#load Fama-French 3 factors data\n",
    "load_data = False\n",
    "\n",
    "if load_data:\n",
    "    pd.set_option('precision', 4)\n",
    "    ff3 = pandas_datareader.famafrench.FamaFrenchReader('F-F_Research_Data_Factors', start='1926', end='2022')\n",
    "    ff3 = ff3.read()[0]/100\n",
    "    ff3.columns = 'MktRF', 'SMB', 'HML', 'RF'\n",
    "    ff3.to_csv('ff3.csv')\n",
    "\n",
    "else:\n",
    "    ff3 = pd.read_csv('ff3.csv')"
   ]
  },
  {
   "cell_type": "markdown",
   "id": "dd11af4e",
   "metadata": {},
   "source": [
    "#### Question 1"
   ]
  },
  {
   "cell_type": "code",
   "execution_count": 18,
   "id": "2b399866",
   "metadata": {},
   "outputs": [],
   "source": [
    "# change variables\n",
    "crsp_raw['permno'] = crsp_raw['permno'].astype(int)\n",
    "crsp_raw['date'] = pd.to_datetime(crsp_raw['date'], format='%Y-%m-%d', errors='ignore')\n",
    "crsp_raw['date'] = pd.DataFrame(crsp_raw[['date']].values.astype('datetime64[ns]')) + MonthEnd(0)\n",
    "crsp_raw = crsp_raw.sort_values(by=['date', 'permno'])\n",
    "\n",
    "dlret_raw.permno = dlret_raw.permno.astype(int)\n",
    "dlret_raw['date'] = pd.to_datetime(dlret_raw['dlstdt'], format='%Y-%m-%d', errors='ignore')\n",
    "dlret_raw['date'] = pd.DataFrame(dlret_raw[['date']].values.astype('datetime64[ns]')) + MonthEnd(0)\n",
    "dlret_raw = dlret_raw.sort_values(by=['date', 'permno'])\n",
    "\n",
    "ff3['date'] = pd.to_datetime(ff3['Date'], format='%Y-%m-%d', errors='ignore')\n",
    "ff3['date'] = pd.DataFrame(ff3[['date']].values.astype('datetime64[ns]')) + MonthEnd(0)"
   ]
  },
  {
   "cell_type": "code",
   "execution_count": 19,
   "id": "6102ebcb",
   "metadata": {},
   "outputs": [],
   "source": [
    "# merge holding period return data with delisted return data\n",
    "crsp = crsp_raw.merge(dlret_raw, how='outer', on=['date', 'permno'])\n",
    "\n",
    "# compute adjusted returns\n",
    "crsp['ret'] = np.where(crsp['ret'].notna() & crsp['dlret'].notna(), \n",
    "                       (1+crsp['ret'])*(1+crsp['dlret'])-1, crsp['ret'])\n",
    "crsp['ret'] = np.where(crsp['ret'].isna() & crsp['dlret'].notna(),\n",
    "                       crsp['dlret'], crsp['ret'])\n",
    "crsp = crsp[crsp['ret'].notna()]\n",
    "crsp = crsp[['date','permno','prc','shrout','ret']].sort_values(by=['date','permno']).reset_index(drop=True)"
   ]
  },
  {
   "cell_type": "code",
   "execution_count": 20,
   "id": "3bf9279a",
   "metadata": {},
   "outputs": [],
   "source": [
    "# compute market equity\n",
    "crsp['me'] = crsp['prc'].abs() * crsp['shrout']"
   ]
  },
  {
   "cell_type": "code",
   "execution_count": 21,
   "id": "8e17ed72",
   "metadata": {},
   "outputs": [],
   "source": [
    "# find lagged market equity\n",
    "crsp['new_date'] = crsp['date'] + dt.timedelta(days=20)\n",
    "crsp['new_date'] = pd.DataFrame(crsp[['new_date']].values.astype('datetime64[ns]')) + MonthEnd(0)\n",
    "lcrsp = crsp[['new_date','permno','me']].rename(columns={'new_date':'date', 'me':'lag_me'})\n",
    "crsp = crsp[['date','permno','ret','me']]\n",
    "crsp = crsp.merge(lcrsp, how='inner', on=['date','permno'])\n",
    "crsp = crsp[crsp['ret'].notna() & crsp['lag_me'].notna()]\n",
    "crsp = crsp.drop_duplicates(subset=['date','permno'])\n",
    "\n",
    "# compute sum of lag_me at each month-end\n",
    "sum_lag_me = crsp.groupby(['date'])['lag_me'].sum().reset_index().rename(columns={'lag_me':'stock_lag_mv'})\n",
    "crsp = crsp.merge(sum_lag_me, how='outer', on='date')"
   ]
  },
  {
   "cell_type": "code",
   "execution_count": 22,
   "id": "0f31f5de",
   "metadata": {},
   "outputs": [],
   "source": [
    "# compute value-weighted return\n",
    "crsp['lag_weight'] = crsp['lag_me']/crsp['stock_lag_mv']\n",
    "crsp['vw_ret'] = crsp['ret']*crsp['lag_weight']\n",
    "vw_ret = crsp.groupby(['date'])['vw_ret'].sum().reset_index().rename(columns={'vw_ret': \"stock_vw_ret\"})\n",
    "\n",
    "# compute equal-weighted return\n",
    "ew_ret = crsp.groupby(['date'])['ret'].mean().reset_index().rename(columns={'ret': \"stock_ew_ret\"})"
   ]
  },
  {
   "cell_type": "code",
   "execution_count": 23,
   "id": "5e156f7d",
   "metadata": {},
   "outputs": [
    {
     "name": "stdout",
     "output_type": "stream",
     "text": [
      "           date  stock_lag_mv  stock_ew_ret  stock_vw_ret\n",
      "0    1926-02-28  2.678975e+07     -0.053931     -0.033337\n",
      "1    1926-03-31  2.601718e+07     -0.095597     -0.064564\n",
      "2    1926-04-30  2.404646e+07      0.031884      0.036917\n",
      "3    1926-05-31  2.519361e+07      0.002048      0.012303\n",
      "4    1926-06-30  2.523775e+07      0.051502      0.054721\n",
      "...         ...           ...           ...           ...\n",
      "1146 2021-08-31  4.589669e+10      0.022892      0.028814\n",
      "1147 2021-09-30  4.727925e+10     -0.029714     -0.043681\n",
      "1148 2021-10-31  4.522362e+10      0.020737      0.066513\n",
      "1149 2021-11-30  4.826523e+10     -0.053513     -0.015409\n",
      "1150 2021-12-31  4.745864e+10     -0.008236      0.031500\n",
      "\n",
      "[1151 rows x 4 columns]\n"
     ]
    }
   ],
   "source": [
    "monthly_crsp_stock = sum_lag_me.merge(ew_ret, how='inner', on=['date'])\n",
    "monthly_crsp_stock = monthly_crsp_stock.merge(vw_ret, how='inner', on=['date'])\n",
    "print(monthly_crsp_stock)"
   ]
  },
  {
   "cell_type": "code",
   "execution_count": 24,
   "id": "b39586a5",
   "metadata": {},
   "outputs": [],
   "source": [
    "# save output in a csv\n",
    "monthly_crsp_stock.to_csv('monthly_crsp_stock.csv', encoding='utf-8')"
   ]
  },
  {
   "cell_type": "code",
   "execution_count": 25,
   "id": "4efcb020",
   "metadata": {
    "scrolled": true
   },
   "outputs": [
    {
     "data": {
      "image/png": "[encoded data removed]",
      "text/plain": [
       "<Figure size 432x288 with 2 Axes>"
      ]
     },
     "metadata": {
      "needs_background": "light"
     },
     "output_type": "display_data"
    }
   ],
   "source": [
    "# plot cumulative returns\n",
    "vw_ret['cum_vw_ret'] = np.cumprod(1+vw_ret['stock_vw_ret']) - 1\n",
    "ew_ret['cum_ew_ret'] = np.cumprod(1+ew_ret['stock_ew_ret']) - 1\n",
    "\n",
    "fig = plt.figure()\n",
    "ax = fig.add_subplot(111)\n",
    "ax.plot(vw_ret['cum_vw_ret'], label='c_vwret')\n",
    "ax.plot(ew_ret['cum_ew_ret'], label='c_ewret')\n",
    "ax1 = ax.twinx()\n",
    "ax1.plot(sum_lag_me['stock_lag_mv'], label='stock_lag_mv', color='green')\n",
    "fig.legend()\n",
    "plt.show()"
   ]
  },
  {
   "cell_type": "markdown",
   "id": "ef11650c",
   "metadata": {},
   "source": [
    "#### Question 2"
   ]
  },
  {
   "cell_type": "code",
   "execution_count": 26,
   "id": "cc6ab807",
   "metadata": {},
   "outputs": [
    {
     "name": "stdout",
     "output_type": "stream",
     "text": [
      "                              Replication Fama-French\n",
      "Index                                                \n",
      "Annualized Excess Return         0.083504    0.083199\n",
      "Annualized Standard Deviation    0.184557     0.18482\n",
      "Sharpe Ratio                     0.452457    0.450163\n",
      "Excess Skewness                  0.170301    0.163392\n",
      "Excess Kurtosis                  7.656854    7.648277\n"
     ]
    }
   ],
   "source": [
    "# comparison with fama-french\n",
    "df = pd.merge(vw_ret, ff3, how='outer', on=['date'])\n",
    "df['ret_rep'] = df['stock_vw_ret'] - df['RF']\n",
    "df = df[['date','ret_rep','MktRF']]\n",
    "df = df[df['ret_rep'].notna() & df['MktRF'].notna()]\n",
    "\n",
    "q2 = pd.DataFrame(columns=['Index', 'Replication', 'Fama-French'])\n",
    "\n",
    "q2.loc[0, 'Index'] = 'Annualized Excess Return'\n",
    "q2.loc[0, 'Replication'] = df['ret_rep'].mean()*12\n",
    "q2.loc[0, 'Fama-French'] = df['MktRF'].mean()*12\n",
    "\n",
    "q2.loc[1, 'Index'] = 'Annualized Standard Deviation'\n",
    "q2.loc[1, 'Replication'] = df['ret_rep'].std()*np.sqrt(12)\n",
    "q2.loc[1, 'Fama-French'] = df['MktRF'].std()*np.sqrt(12)\n",
    "\n",
    "q2.loc[2, 'Index'] = 'Sharpe Ratio'\n",
    "q2.loc[2, 'Replication'] = df['ret_rep'].mean()*12 / (df['ret_rep'].std()*np.sqrt(12))\n",
    "q2.loc[2, 'Fama-French'] = df['MktRF'].mean()*12 / (df['MktRF'].std()*np.sqrt(12))\n",
    "\n",
    "q2.loc[3, 'Index'] = 'Excess Skewness'\n",
    "q2.loc[3, 'Replication'] = df['ret_rep'].skew()\n",
    "q2.loc[3, 'Fama-French'] = df['MktRF'].skew()\n",
    "\n",
    "q2.loc[4, 'Index'] = 'Excess Kurtosis'\n",
    "q2.loc[4, 'Replication'] = df['ret_rep'].kurtosis()\n",
    "q2.loc[4, 'Fama-French'] = df['MktRF'].kurtosis()\n",
    "\n",
    "q2 = q2.set_index('Index')\n",
    "print(q2)"
   ]
  },
  {
   "cell_type": "markdown",
   "id": "473b755a",
   "metadata": {},
   "source": [
    "#### Question 3"
   ]
  },
  {
   "cell_type": "code",
   "execution_count": 27,
   "id": "7204bf01",
   "metadata": {},
   "outputs": [
    {
     "name": "stdout",
     "output_type": "stream",
     "text": [
      "0.99998998\n"
     ]
    }
   ],
   "source": [
    "# compute correlation with fama-french data\n",
    "cor = df[['ret_rep', 'MktRF']].corr(method='pearson', min_periods=1)\n",
    "corr = Decimal(cor.iloc[0,1]).quantize(Decimal(\"0.00000001\"), rounding = \"ROUND_HALF_UP\")\n",
    "print(corr)"
   ]
  },
  {
   "cell_type": "code",
   "execution_count": 28,
   "id": "e9cefd17",
   "metadata": {},
   "outputs": [
    {
     "data": {
      "text/plain": [
       "0.0024313812602767756"
      ]
     },
     "execution_count": 28,
     "metadata": {},
     "output_type": "execute_result"
    }
   ],
   "source": [
    "df['diff'] = df['ret_rep'] - df['MktRF']\n",
    "max(df['diff'])"
   ]
  },
  {
   "cell_type": "code",
   "execution_count": null,
   "id": "bf27516f",
   "metadata": {},
   "outputs": [],
   "source": []
  }
 ],
 "metadata": {
  "kernelspec": {
   "display_name": "Python 3",
   "language": "python",
   "name": "python3"
  },
  "language_info": {
   "codemirror_mode": {
    "name": "ipython",
    "version": 3
   },
   "file_extension": ".py",
   "mimetype": "text/x-python",
   "name": "python",
   "nbconvert_exporter": "python",
   "pygments_lexer": "ipython3",
   "version": "3.8.8"
  },
  "toc": {
   "base_numbering": 1,
   "nav_menu": {},
   "number_sections": false,
   "sideBar": true,
   "skip_h1_title": false,
   "title_cell": "Table of Contents",
   "title_sidebar": "Contents",
   "toc_cell": false,
   "toc_position": {
    "height": "calc(100% - 180px)",
    "left": "10px",
    "top": "150px",
    "width": "165px"
   },
   "toc_section_display": true,
   "toc_window_display": true
  }
 },
 "nbformat": 4,
 "nbformat_minor": 5
}
